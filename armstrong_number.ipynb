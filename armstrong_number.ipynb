{
 "metadata": {
  "language_info": {
   "codemirror_mode": {
    "name": "ipython",
    "version": 3
   },
   "file_extension": ".py",
   "mimetype": "text/x-python",
   "name": "python",
   "nbconvert_exporter": "python",
   "pygments_lexer": "ipython3",
   "version": 3
  },
  "orig_nbformat": 2
 },
 "nbformat": 4,
 "nbformat_minor": 2,
 "cells": [
  {
   "cell_type": "code",
   "execution_count": null,
   "metadata": {},
   "outputs": [],
   "source": [
    "while True :\r\n",
    "    number = input(\"Enter a positive number :\")\r\n",
    "    if number.isdigit() :\r\n",
    "        break\r\n",
    "    else :\r\n",
    "        continue\r\n",
    "int_number = int(number)\r\n",
    "armstrong_number = 0\r\n",
    "for i in number :\r\n",
    "    armstrong_number += int(i)**len(number)\r\n",
    "if int_number == armstrong_number :\r\n",
    "    print(f\"{number} is an Armstrong number\")\r\n",
    "else :\r\n",
    "    print(f\"{number} is not an Armstrong number\")"
   ]
  }
 ]
}