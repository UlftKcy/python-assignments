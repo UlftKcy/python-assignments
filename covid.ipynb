{
 "metadata": {
  "language_info": {
   "codemirror_mode": {
    "name": "ipython",
    "version": 3
   },
   "file_extension": ".py",
   "mimetype": "text/x-python",
   "name": "python",
   "nbconvert_exporter": "python",
   "pygments_lexer": "ipython3",
   "version": "3.9.2"
  },
  "orig_nbformat": 2,
  "kernelspec": {
   "name": "python392jvsc74a57bd00cd4e17c67392efd3feb942b17c143f8126633baea664b4efbdcda555a810398",
   "display_name": "Python 3.9.2 64-bit"
  },
  "metadata": {
   "interpreter": {
    "hash": "0cd4e17c67392efd3feb942b17c143f8126633baea664b4efbdcda555a810398"
   }
  }
 },
 "nbformat": 4,
 "nbformat_minor": 2,
 "cells": [
  {
   "cell_type": "code",
   "execution_count": 3,
   "metadata": {},
   "outputs": [
    {
     "output_type": "stream",
     "name": "stdout",
     "text": [
      "Covid-19 Risk : You are not in risky group\n"
     ]
    }
   ],
   "source": [
    "# Covid-19 Risk\n",
    "\n",
    "age = input(\"Are you a cigarette addict older than 75 years old? :\").title().strip()\n",
    "chronic = input(\"Do you have a severe chronic disease? :\").title().strip()\n",
    "immune = input(\"Is your immune system too weak? :\").title().strip()\n",
    "\n",
    "if age == 'Yes':\n",
    "    age = True\n",
    "else :\n",
    "    age = False\n",
    "if chronic == 'Yes':\n",
    "    chronic = True\n",
    "else :\n",
    "    chronic = False\n",
    "if immune == 'Yes':\n",
    "    immune = True\n",
    "else :\n",
    "    immune = False\n",
    "if age or chronic or immune == True :\n",
    "    result = \"You are in risky group\"\n",
    "else : # age or chronic or immune == False\n",
    "    result = \"You are not in risky group\"\n",
    "print(\"Covid-19 Risk :\" ,result)\n"
   ]
  },
  {
   "cell_type": "code",
   "execution_count": null,
   "metadata": {},
   "outputs": [],
   "source": []
  }
 ]
}