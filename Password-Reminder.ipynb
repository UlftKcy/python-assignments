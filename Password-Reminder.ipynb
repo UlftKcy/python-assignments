{
 "metadata": {
  "language_info": {
   "codemirror_mode": {
    "name": "ipython",
    "version": 3
   },
   "file_extension": ".py",
   "mimetype": "text/x-python",
   "name": "python",
   "nbconvert_exporter": "python",
   "pygments_lexer": "ipython3",
   "version": 3
  },
  "orig_nbformat": 2
 },
 "nbformat": 4,
 "nbformat_minor": 2,
 "cells": [
  {
   "cell_type": "code",
   "execution_count": null,
   "metadata": {},
   "outputs": [],
   "source": [
    "first_name = \"Ülfet\"\n",
    "\n",
    "name = input(\"Enter your first name :\").title().strip()\n",
    "password = \"QweAsdZxc\"\n",
    "\n",
    "if name == first_name :\n",
    "    print(f\"Hello, {first_name}! The password is : {password}\")\n",
    "else :\n",
    "    print(f\"Hello, {name}! See you later.\")"
   ]
  }
 ]
}