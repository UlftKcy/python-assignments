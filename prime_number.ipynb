{
 "metadata": {
  "language_info": {
   "codemirror_mode": {
    "name": "ipython",
    "version": 3
   },
   "file_extension": ".py",
   "mimetype": "text/x-python",
   "name": "python",
   "nbconvert_exporter": "python",
   "pygments_lexer": "ipython3",
   "version": 3
  },
  "orig_nbformat": 2
 },
 "nbformat": 4,
 "nbformat_minor": 2,
 "cells": [
  {
   "cell_type": "code",
   "execution_count": null,
   "metadata": {},
   "outputs": [],
   "source": [
    "number = int(input(\"Enter a number :\"))\n",
    "count = 0\n",
    "\n",
    "for i in range(2,number) :\n",
    "    if number % i == 0 :\n",
    "        count = count + 1\n",
    "        break\n",
    "if count == 0 :\n",
    "    print(f\"{number} is a prime number\")\n",
    "else :\n",
    "    print(f\"{number} is not a prime number\")"
   ]
  }
 ]
}